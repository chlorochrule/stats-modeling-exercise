{
 "cells": [
  {
   "cell_type": "markdown",
   "metadata": {},
   "source": [
    "# データ解析のための統計モデリング入門\n",
    "## 2章 確率分布と統計モデルの最尤推定\n",
    "### 2.1 例題：趣旨数の統計モデリング"
   ]
  },
  {
   "cell_type": "code",
   "execution_count": 8,
   "metadata": {},
   "outputs": [
    {
     "data": {
      "text/html": [
       "<ol class=list-inline>\n",
       "\t<li>2</li>\n",
       "\t<li>2</li>\n",
       "\t<li>4</li>\n",
       "\t<li>6</li>\n",
       "\t<li>4</li>\n",
       "\t<li>5</li>\n",
       "\t<li>2</li>\n",
       "\t<li>3</li>\n",
       "\t<li>1</li>\n",
       "\t<li>2</li>\n",
       "\t<li>0</li>\n",
       "\t<li>4</li>\n",
       "\t<li>3</li>\n",
       "\t<li>3</li>\n",
       "\t<li>3</li>\n",
       "\t<li>3</li>\n",
       "\t<li>4</li>\n",
       "\t<li>2</li>\n",
       "\t<li>7</li>\n",
       "\t<li>2</li>\n",
       "\t<li>4</li>\n",
       "\t<li>3</li>\n",
       "\t<li>3</li>\n",
       "\t<li>3</li>\n",
       "\t<li>4</li>\n",
       "\t<li>3</li>\n",
       "\t<li>7</li>\n",
       "\t<li>5</li>\n",
       "\t<li>3</li>\n",
       "\t<li>1</li>\n",
       "\t<li>7</li>\n",
       "\t<li>6</li>\n",
       "\t<li>4</li>\n",
       "\t<li>6</li>\n",
       "\t<li>5</li>\n",
       "\t<li>2</li>\n",
       "\t<li>4</li>\n",
       "\t<li>7</li>\n",
       "\t<li>2</li>\n",
       "\t<li>2</li>\n",
       "\t<li>6</li>\n",
       "\t<li>2</li>\n",
       "\t<li>4</li>\n",
       "\t<li>5</li>\n",
       "\t<li>4</li>\n",
       "\t<li>5</li>\n",
       "\t<li>1</li>\n",
       "\t<li>3</li>\n",
       "\t<li>2</li>\n",
       "\t<li>3</li>\n",
       "</ol>\n"
      ],
      "text/latex": [
       "\\begin{enumerate*}\n",
       "\\item 2\n",
       "\\item 2\n",
       "\\item 4\n",
       "\\item 6\n",
       "\\item 4\n",
       "\\item 5\n",
       "\\item 2\n",
       "\\item 3\n",
       "\\item 1\n",
       "\\item 2\n",
       "\\item 0\n",
       "\\item 4\n",
       "\\item 3\n",
       "\\item 3\n",
       "\\item 3\n",
       "\\item 3\n",
       "\\item 4\n",
       "\\item 2\n",
       "\\item 7\n",
       "\\item 2\n",
       "\\item 4\n",
       "\\item 3\n",
       "\\item 3\n",
       "\\item 3\n",
       "\\item 4\n",
       "\\item 3\n",
       "\\item 7\n",
       "\\item 5\n",
       "\\item 3\n",
       "\\item 1\n",
       "\\item 7\n",
       "\\item 6\n",
       "\\item 4\n",
       "\\item 6\n",
       "\\item 5\n",
       "\\item 2\n",
       "\\item 4\n",
       "\\item 7\n",
       "\\item 2\n",
       "\\item 2\n",
       "\\item 6\n",
       "\\item 2\n",
       "\\item 4\n",
       "\\item 5\n",
       "\\item 4\n",
       "\\item 5\n",
       "\\item 1\n",
       "\\item 3\n",
       "\\item 2\n",
       "\\item 3\n",
       "\\end{enumerate*}\n"
      ],
      "text/markdown": [
       "1. 2\n",
       "2. 2\n",
       "3. 4\n",
       "4. 6\n",
       "5. 4\n",
       "6. 5\n",
       "7. 2\n",
       "8. 3\n",
       "9. 1\n",
       "10. 2\n",
       "11. 0\n",
       "12. 4\n",
       "13. 3\n",
       "14. 3\n",
       "15. 3\n",
       "16. 3\n",
       "17. 4\n",
       "18. 2\n",
       "19. 7\n",
       "20. 2\n",
       "21. 4\n",
       "22. 3\n",
       "23. 3\n",
       "24. 3\n",
       "25. 4\n",
       "26. 3\n",
       "27. 7\n",
       "28. 5\n",
       "29. 3\n",
       "30. 1\n",
       "31. 7\n",
       "32. 6\n",
       "33. 4\n",
       "34. 6\n",
       "35. 5\n",
       "36. 2\n",
       "37. 4\n",
       "38. 7\n",
       "39. 2\n",
       "40. 2\n",
       "41. 6\n",
       "42. 2\n",
       "43. 4\n",
       "44. 5\n",
       "45. 4\n",
       "46. 5\n",
       "47. 1\n",
       "48. 3\n",
       "49. 2\n",
       "50. 3\n",
       "\n",
       "\n"
      ],
      "text/plain": [
       " [1] 2 2 4 6 4 5 2 3 1 2 0 4 3 3 3 3 4 2 7 2 4 3 3 3 4 3 7 5 3 1 7 6 4 6 5 2 4 7\n",
       "[39] 2 2 6 2 4 5 4 5 1 3 2 3"
      ]
     },
     "metadata": {},
     "output_type": "display_data"
    }
   ],
   "source": [
    "load('../prepared/chapter2/data.RData')\n",
    "data"
   ]
  },
  {
   "cell_type": "code",
   "execution_count": 10,
   "metadata": {},
   "outputs": [
    {
     "data": {
      "text/html": [
       "50"
      ],
      "text/latex": [
       "50"
      ],
      "text/markdown": [
       "50"
      ],
      "text/plain": [
       "[1] 50"
      ]
     },
     "metadata": {},
     "output_type": "display_data"
    }
   ],
   "source": [
    "length(data)"
   ]
  },
  {
   "cell_type": "code",
   "execution_count": 11,
   "metadata": {},
   "outputs": [
    {
     "data": {
      "text/plain": [
       "   Min. 1st Qu.  Median    Mean 3rd Qu.    Max. \n",
       "   0.00    2.00    3.00    3.56    4.75    7.00 "
      ]
     },
     "metadata": {},
     "output_type": "display_data"
    }
   ],
   "source": [
    "summary(data)"
   ]
  },
  {
   "cell_type": "code",
   "execution_count": 12,
   "metadata": {},
   "outputs": [
    {
     "data": {
      "text/plain": [
       "data\n",
       " 0  1  2  3  4  5  6  7 \n",
       " 1  3 11 12 10  5  4  4 "
      ]
     },
     "metadata": {},
     "output_type": "display_data"
    }
   ],
   "source": [
    "table(data)"
   ]
  },
  {
   "cell_type": "code",
   "execution_count": 13,
   "metadata": {},
   "outputs": [
    {
     "data": {
      "image/png": "[encoded data removed]",
      "text/plain": [
       "Plot with title “Histogram of data”"
      ]
     },
     "metadata": {},
     "output_type": "display_data"
    }
   ],
   "source": [
    "hist(data, breaks = seq(-0.5, 9.5, 1))"
   ]
  },
  {
   "cell_type": "code",
   "execution_count": 14,
   "metadata": {},
   "outputs": [
    {
     "data": {
      "text/html": [
       "2.98612244897959"
      ],
      "text/latex": [
       "2.98612244897959"
      ],
      "text/markdown": [
       "2.98612244897959"
      ],
      "text/plain": [
       "[1] 2.986122"
      ]
     },
     "metadata": {},
     "output_type": "display_data"
    }
   ],
   "source": [
    "var(data)"
   ]
  },
  {
   "cell_type": "code",
   "execution_count": 15,
   "metadata": {},
   "outputs": [
    {
     "data": {
      "text/html": [
       "1.72804006000428"
      ],
      "text/latex": [
       "1.72804006000428"
      ],
      "text/markdown": [
       "1.72804006000428"
      ],
      "text/plain": [
       "[1] 1.72804"
      ]
     },
     "metadata": {},
     "output_type": "display_data"
    }
   ],
   "source": [
    "sd(data)"
   ]
  },
  {
   "cell_type": "code",
   "execution_count": 16,
   "metadata": {},
   "outputs": [
    {
     "data": {
      "text/html": [
       "1.72804006000428"
      ],
      "text/latex": [
       "1.72804006000428"
      ],
      "text/markdown": [
       "1.72804006000428"
      ],
      "text/plain": [
       "[1] 1.72804"
      ]
     },
     "metadata": {},
     "output_type": "display_data"
    }
   ],
   "source": [
    "sqrt(var(data))"
   ]
  },
  {
   "cell_type": "markdown",
   "metadata": {},
   "source": [
    "### 2.2 データと確率分布の対応関係をながめる"
   ]
  },
  {
   "cell_type": "code",
   "execution_count": 18,
   "metadata": {},
   "outputs": [
    {
     "data": {
      "image/png": "[encoded data removed]",
      "text/plain": [
       "plot without title"
      ]
     },
     "metadata": {},
     "output_type": "display_data"
    }
   ],
   "source": [
    "y <- 0:9\n",
    "prob <- dpois(y, lambda = 3.56)\n",
    "plot(y, prob, type = \"b\", lty = 2)"
   ]
  },
  {
   "cell_type": "markdown",
   "metadata": {},
   "source": [
    "### 2.4 ポアソン分布のパラメータの最尤推定"
   ]
  },
  {
   "cell_type": "code",
   "execution_count": 22,
   "metadata": {},
   "outputs": [
    {
     "data": {
      "image/png": "[encoded data removed]",
      "text/plain": [
       "plot without title"
      ]
     },
     "metadata": {},
     "output_type": "display_data"
    }
   ],
   "source": [
    "logL <- function(m) sum(dpois(data, m, log = TRUE))\n",
    "lambda <- seq(2, 5, 0.1)\n",
    "plot(lambda, sapply(lambda, logL), type = \"l\")"
   ]
  },
  {
   "cell_type": "code",
   "execution_count": 31,
   "metadata": {},
   "outputs": [
    {
     "data": {
      "text/html": [
       "<ol class=list-inline>\n",
       "\t<li>0.224041807655388</li>\n",
       "\t<li>0.224041807655388</li>\n",
       "\t<li>0.168031355741541</li>\n",
       "\t<li>0.0504094067224623</li>\n",
       "\t<li>0.168031355741541</li>\n",
       "\t<li>0.100818813444924</li>\n",
       "\t<li>0.224041807655388</li>\n",
       "\t<li>0.224041807655388</li>\n",
       "\t<li>0.149361205103592</li>\n",
       "\t<li>0.224041807655388</li>\n",
       "\t<li>0.0497870683678639</li>\n",
       "\t<li>0.168031355741541</li>\n",
       "\t<li>0.224041807655388</li>\n",
       "\t<li>0.224041807655388</li>\n",
       "\t<li>0.224041807655388</li>\n",
       "\t<li>0.224041807655388</li>\n",
       "\t<li>0.168031355741541</li>\n",
       "\t<li>0.224041807655388</li>\n",
       "\t<li>0.0216040314524838</li>\n",
       "\t<li>0.224041807655388</li>\n",
       "\t<li>0.168031355741541</li>\n",
       "\t<li>0.224041807655388</li>\n",
       "\t<li>0.224041807655388</li>\n",
       "\t<li>0.224041807655388</li>\n",
       "\t<li>0.168031355741541</li>\n",
       "\t<li>0.224041807655388</li>\n",
       "\t<li>0.0216040314524838</li>\n",
       "\t<li>0.100818813444924</li>\n",
       "\t<li>0.224041807655388</li>\n",
       "\t<li>0.149361205103592</li>\n",
       "\t<li>0.0216040314524838</li>\n",
       "\t<li>0.0504094067224623</li>\n",
       "\t<li>0.168031355741541</li>\n",
       "\t<li>0.0504094067224623</li>\n",
       "\t<li>0.100818813444924</li>\n",
       "\t<li>0.224041807655388</li>\n",
       "\t<li>0.168031355741541</li>\n",
       "\t<li>0.0216040314524838</li>\n",
       "\t<li>0.224041807655388</li>\n",
       "\t<li>0.224041807655388</li>\n",
       "\t<li>0.0504094067224623</li>\n",
       "\t<li>0.224041807655388</li>\n",
       "\t<li>0.168031355741541</li>\n",
       "\t<li>0.100818813444924</li>\n",
       "\t<li>0.168031355741541</li>\n",
       "\t<li>0.100818813444924</li>\n",
       "\t<li>0.149361205103592</li>\n",
       "\t<li>0.224041807655388</li>\n",
       "\t<li>0.224041807655388</li>\n",
       "\t<li>0.224041807655388</li>\n",
       "</ol>\n"
      ],
      "text/latex": [
       "\\begin{enumerate*}\n",
       "\\item 0.224041807655388\n",
       "\\item 0.224041807655388\n",
       "\\item 0.168031355741541\n",
       "\\item 0.0504094067224623\n",
       "\\item 0.168031355741541\n",
       "\\item 0.100818813444924\n",
       "\\item 0.224041807655388\n",
       "\\item 0.224041807655388\n",
       "\\item 0.149361205103592\n",
       "\\item 0.224041807655388\n",
       "\\item 0.0497870683678639\n",
       "\\item 0.168031355741541\n",
       "\\item 0.224041807655388\n",
       "\\item 0.224041807655388\n",
       "\\item 0.224041807655388\n",
       "\\item 0.224041807655388\n",
       "\\item 0.168031355741541\n",
       "\\item 0.224041807655388\n",
       "\\item 0.0216040314524838\n",
       "\\item 0.224041807655388\n",
       "\\item 0.168031355741541\n",
       "\\item 0.224041807655388\n",
       "\\item 0.224041807655388\n",
       "\\item 0.224041807655388\n",
       "\\item 0.168031355741541\n",
       "\\item 0.224041807655388\n",
       "\\item 0.0216040314524838\n",
       "\\item 0.100818813444924\n",
       "\\item 0.224041807655388\n",
       "\\item 0.149361205103592\n",
       "\\item 0.0216040314524838\n",
       "\\item 0.0504094067224623\n",
       "\\item 0.168031355741541\n",
       "\\item 0.0504094067224623\n",
       "\\item 0.100818813444924\n",
       "\\item 0.224041807655388\n",
       "\\item 0.168031355741541\n",
       "\\item 0.0216040314524838\n",
       "\\item 0.224041807655388\n",
       "\\item 0.224041807655388\n",
       "\\item 0.0504094067224623\n",
       "\\item 0.224041807655388\n",
       "\\item 0.168031355741541\n",
       "\\item 0.100818813444924\n",
       "\\item 0.168031355741541\n",
       "\\item 0.100818813444924\n",
       "\\item 0.149361205103592\n",
       "\\item 0.224041807655388\n",
       "\\item 0.224041807655388\n",
       "\\item 0.224041807655388\n",
       "\\end{enumerate*}\n"
      ],
      "text/markdown": [
       "1. 0.224041807655388\n",
       "2. 0.224041807655388\n",
       "3. 0.168031355741541\n",
       "4. 0.0504094067224623\n",
       "5. 0.168031355741541\n",
       "6. 0.100818813444924\n",
       "7. 0.224041807655388\n",
       "8. 0.224041807655388\n",
       "9. 0.149361205103592\n",
       "10. 0.224041807655388\n",
       "11. 0.0497870683678639\n",
       "12. 0.168031355741541\n",
       "13. 0.224041807655388\n",
       "14. 0.224041807655388\n",
       "15. 0.224041807655388\n",
       "16. 0.224041807655388\n",
       "17. 0.168031355741541\n",
       "18. 0.224041807655388\n",
       "19. 0.0216040314524838\n",
       "20. 0.224041807655388\n",
       "21. 0.168031355741541\n",
       "22. 0.224041807655388\n",
       "23. 0.224041807655388\n",
       "24. 0.224041807655388\n",
       "25. 0.168031355741541\n",
       "26. 0.224041807655388\n",
       "27. 0.0216040314524838\n",
       "28. 0.100818813444924\n",
       "29. 0.224041807655388\n",
       "30. 0.149361205103592\n",
       "31. 0.0216040314524838\n",
       "32. 0.0504094067224623\n",
       "33. 0.168031355741541\n",
       "34. 0.0504094067224623\n",
       "35. 0.100818813444924\n",
       "36. 0.224041807655388\n",
       "37. 0.168031355741541\n",
       "38. 0.0216040314524838\n",
       "39. 0.224041807655388\n",
       "40. 0.224041807655388\n",
       "41. 0.0504094067224623\n",
       "42. 0.224041807655388\n",
       "43. 0.168031355741541\n",
       "44. 0.100818813444924\n",
       "45. 0.168031355741541\n",
       "46. 0.100818813444924\n",
       "47. 0.149361205103592\n",
       "48. 0.224041807655388\n",
       "49. 0.224041807655388\n",
       "50. 0.224041807655388\n",
       "\n",
       "\n"
      ],
      "text/plain": [
       " [1] 0.22404181 0.22404181 0.16803136 0.05040941 0.16803136 0.10081881\n",
       " [7] 0.22404181 0.22404181 0.14936121 0.22404181 0.04978707 0.16803136\n",
       "[13] 0.22404181 0.22404181 0.22404181 0.22404181 0.16803136 0.22404181\n",
       "[19] 0.02160403 0.22404181 0.16803136 0.22404181 0.22404181 0.22404181\n",
       "[25] 0.16803136 0.22404181 0.02160403 0.10081881 0.22404181 0.14936121\n",
       "[31] 0.02160403 0.05040941 0.16803136 0.05040941 0.10081881 0.22404181\n",
       "[37] 0.16803136 0.02160403 0.22404181 0.22404181 0.05040941 0.22404181\n",
       "[43] 0.16803136 0.10081881 0.16803136 0.10081881 0.14936121 0.22404181\n",
       "[49] 0.22404181 0.22404181"
      ]
     },
     "metadata": {},
     "output_type": "display_data"
    }
   ],
   "source": [
    "dpois(data, 3)"
   ]
  }
 ],
 "metadata": {
  "kernelspec": {
   "display_name": "R",
   "language": "R",
   "name": "ir"
  },
  "language_info": {
   "codemirror_mode": "r",
   "file_extension": ".r",
   "mimetype": "text/x-r-source",
   "name": "R",
   "pygments_lexer": "r",
   "version": "3.4.3"
  }
 },
 "nbformat": 4,
 "nbformat_minor": 2
}
