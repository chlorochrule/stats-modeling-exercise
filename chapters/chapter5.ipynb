{
 "cells": [
  {
   "cell_type": "markdown",
   "metadata": {},
   "source": [
    "# データ解析のための統計モデリング入門\n",
    "## 5章 GLMの尤度比検定と検定の非対称性\n",
    "### 5.4 帰無仮説を棄却するための有意水準"
   ]
  },
  {
   "cell_type": "code",
   "execution_count": 1,
   "metadata": {},
   "outputs": [
    {
     "data": {
      "text/plain": [
       "       y               x          f     \n",
       " Min.   : 2.00   Min.   : 7.190   C:50  \n",
       " 1st Qu.: 6.00   1st Qu.: 9.428   T:50  \n",
       " Median : 8.00   Median :10.155         \n",
       " Mean   : 7.83   Mean   :10.089         \n",
       " 3rd Qu.:10.00   3rd Qu.:10.685         \n",
       " Max.   :15.00   Max.   :12.400         "
      ]
     },
     "metadata": {},
     "output_type": "display_data"
    }
   ],
   "source": [
    "d <- read.csv(\"../prepared/chapter5/data3a.csv\")\n",
    "summary(d)"
   ]
  },
  {
   "cell_type": "code",
   "execution_count": 3,
   "metadata": {},
   "outputs": [],
   "source": [
    "fit1 <- glm(d$y ~ 1, data = d, family = poisson)\n",
    "fit2 <- glm(d$y ~ x, data = d, family = poisson)"
   ]
  },
  {
   "cell_type": "code",
   "execution_count": 4,
   "metadata": {},
   "outputs": [
    {
     "data": {
      "text/html": [
       "84.9929964907296"
      ],
      "text/latex": [
       "84.9929964907296"
      ],
      "text/markdown": [
       "84.9929964907296"
      ],
      "text/plain": [
       "[1] 84.993"
      ]
     },
     "metadata": {},
     "output_type": "display_data"
    }
   ],
   "source": [
    "fit2$deviance"
   ]
  },
  {
   "cell_type": "code",
   "execution_count": 5,
   "metadata": {},
   "outputs": [
    {
     "data": {
      "text/html": [
       "89.5069375695814"
      ],
      "text/latex": [
       "89.5069375695814"
      ],
      "text/markdown": [
       "89.5069375695814"
      ],
      "text/plain": [
       "[1] 89.50694"
      ]
     },
     "metadata": {},
     "output_type": "display_data"
    }
   ],
   "source": [
    "fit1$deviance"
   ]
  },
  {
   "cell_type": "code",
   "execution_count": 6,
   "metadata": {},
   "outputs": [
    {
     "data": {
      "text/html": [
       "4.51394107885181"
      ],
      "text/latex": [
       "4.51394107885181"
      ],
      "text/markdown": [
       "4.51394107885181"
      ],
      "text/plain": [
       "[1] 4.513941"
      ]
     },
     "metadata": {},
     "output_type": "display_data"
    }
   ],
   "source": [
    "fit1$deviance - fit2$deviance"
   ]
  },
  {
   "cell_type": "code",
   "execution_count": 7,
   "metadata": {},
   "outputs": [],
   "source": [
    "d$y.rnd <- rpois(100, lambda = mean(d$y))"
   ]
  },
  {
   "cell_type": "code",
   "execution_count": 8,
   "metadata": {},
   "outputs": [
    {
     "data": {
      "text/html": [
       "3.10766396764119"
      ],
      "text/latex": [
       "3.10766396764119"
      ],
      "text/markdown": [
       "3.10766396764119"
      ],
      "text/plain": [
       "[1] 3.107664"
      ]
     },
     "metadata": {},
     "output_type": "display_data"
    }
   ],
   "source": [
    "fit1 <- glm(y.rnd ~ 1, data = d, family = poisson)\n",
    "fit2 <- glm(y.rnd ~ x, data = d, family = poisson)\n",
    "fit1$deviance - fit2$deviance"
   ]
  },
  {
   "cell_type": "code",
   "execution_count": 11,
   "metadata": {},
   "outputs": [
    {
     "name": "stdout",
     "output_type": "stream",
     "text": [
      "# ..................................................\n",
      "# ..................................................\n",
      "# ..................................................\n",
      "# ..................................................\n",
      "# ..................................................\n",
      "# ..................................................\n",
      "# ..................................................\n",
      "# ..................................................\n",
      "# ..................................................\n",
      "# ..................................................\n",
      "# ..................................................\n",
      "# ..................................................\n",
      "# ..................................................\n",
      "# ..................................................\n",
      "# ..................................................\n",
      "# ..................................................\n",
      "# ..................................................\n",
      "# ..................................................\n",
      "# ..................................................\n",
      "# ..................................................\n",
      "# \n"
     ]
    }
   ],
   "source": [
    "source(\"../prepared/chapter5/pb.R\")\n",
    "dd12 <- pb(d, n.bootstrap = 1000)"
   ]
  },
  {
   "cell_type": "code",
   "execution_count": 12,
   "metadata": {},
   "outputs": [
    {
     "data": {
      "text/plain": [
       "    Min.  1st Qu.   Median     Mean  3rd Qu.     Max. \n",
       " 0.00000  0.09046  0.47182  1.02493  1.36155 12.01248 "
      ]
     },
     "metadata": {},
     "output_type": "display_data"
    }
   ],
   "source": [
    "summary(dd12)"
   ]
  },
  {
   "cell_type": "code",
   "execution_count": 13,
   "metadata": {},
   "outputs": [
    {
     "data": {
      "image/png": "[encoded data removed]",
      "text/plain": [
       "Plot with title “Histogram of dd12”"
      ]
     },
     "metadata": {},
     "output_type": "display_data"
    }
   ],
   "source": [
    "hist(dd12, 100)\n",
    "abline(v = 4.5, lty = 2)"
   ]
  },
  {
   "cell_type": "code",
   "execution_count": 14,
   "metadata": {},
   "outputs": [
    {
     "data": {
      "text/html": [
       "35"
      ],
      "text/latex": [
       "35"
      ],
      "text/markdown": [
       "35"
      ],
      "text/plain": [
       "[1] 35"
      ]
     },
     "metadata": {},
     "output_type": "display_data"
    }
   ],
   "source": [
    "sum(dd12 >= 4.5)"
   ]
  },
  {
   "cell_type": "code",
   "execution_count": 15,
   "metadata": {},
   "outputs": [
    {
     "data": {
      "text/html": [
       "<strong>95%:</strong> 3.95819911619361"
      ],
      "text/latex": [
       "\\textbf{95\\textbackslash{}\\%:} 3.95819911619361"
      ],
      "text/markdown": [
       "**95%:** 3.95819911619361"
      ],
      "text/plain": [
       "     95% \n",
       "3.958199 "
      ]
     },
     "metadata": {},
     "output_type": "display_data"
    }
   ],
   "source": [
    "quantile(dd12, 0.95)"
   ]
  },
  {
   "cell_type": "code",
   "execution_count": 17,
   "metadata": {},
   "outputs": [
    {
     "data": {
      "text/html": [
       "<table>\n",
       "<caption>A anova: 2 × 5</caption>\n",
       "<thead>\n",
       "\t<tr><th scope=col>Resid. Df</th><th scope=col>Resid. Dev</th><th scope=col>Df</th><th scope=col>Deviance</th><th scope=col>Pr(&gt;Chi)</th></tr>\n",
       "\t<tr><th scope=col>&lt;dbl&gt;</th><th scope=col>&lt;dbl&gt;</th><th scope=col>&lt;dbl&gt;</th><th scope=col>&lt;dbl&gt;</th><th scope=col>&lt;dbl&gt;</th></tr>\n",
       "</thead>\n",
       "<tbody>\n",
       "\t<tr><td>99</td><td>89.50694</td><td>NA</td><td>      NA</td><td>        NA</td></tr>\n",
       "\t<tr><td>98</td><td>84.99300</td><td> 1</td><td>4.513941</td><td>0.03361969</td></tr>\n",
       "</tbody>\n",
       "</table>\n"
      ],
      "text/latex": [
       "A anova: 2 × 5\n",
       "\\begin{tabular}{r|lllll}\n",
       " Resid. Df & Resid. Dev & Df & Deviance & Pr(>Chi)\\\\\n",
       " <dbl> & <dbl> & <dbl> & <dbl> & <dbl>\\\\\n",
       "\\hline\n",
       "\t 99 & 89.50694 & NA &       NA &         NA\\\\\n",
       "\t 98 & 84.99300 &  1 & 4.513941 & 0.03361969\\\\\n",
       "\\end{tabular}\n"
      ],
      "text/markdown": [
       "\n",
       "A anova: 2 × 5\n",
       "\n",
       "| Resid. Df &lt;dbl&gt; | Resid. Dev &lt;dbl&gt; | Df &lt;dbl&gt; | Deviance &lt;dbl&gt; | Pr(&gt;Chi) &lt;dbl&gt; |\n",
       "|---|---|---|---|---|\n",
       "| 99 | 89.50694 | NA |       NA |         NA |\n",
       "| 98 | 84.99300 |  1 | 4.513941 | 0.03361969 |\n",
       "\n"
      ],
      "text/plain": [
       "  Resid. Df Resid. Dev Df Deviance Pr(>Chi)  \n",
       "1 99        89.50694   NA       NA         NA\n",
       "2 98        84.99300    1 4.513941 0.03361969"
      ]
     },
     "metadata": {},
     "output_type": "display_data"
    }
   ],
   "source": [
    "fit1 <- glm(y ~ 1, data = d, family = poisson)\n",
    "fit2 <- glm(y ~ x, data = d, family = poisson)\n",
    "anova(fit1, fit2, test = \"Chisq\")"
   ]
  }
 ],
 "metadata": {
  "kernelspec": {
   "display_name": "R",
   "language": "R",
   "name": "ir"
  },
  "language_info": {
   "codemirror_mode": "r",
   "file_extension": ".r",
   "mimetype": "text/x-r-source",
   "name": "R",
   "pygments_lexer": "r",
   "version": "3.4.3"
  }
 },
 "nbformat": 4,
 "nbformat_minor": 2
}
